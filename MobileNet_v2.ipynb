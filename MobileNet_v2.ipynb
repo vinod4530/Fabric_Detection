{
  "nbformat": 4,
  "nbformat_minor": 0,
  "metadata": {
    "colab": {
      "name": "Classification_mobilenetv2_final_SN_5.ipynb",
      "provenance": [],
      "collapsed_sections": [],
      "machine_shape": "hm"
    },
    "kernelspec": {
      "name": "python3",
      "display_name": "Python 3"
    },
    "language_info": {
      "name": "python"
    },
    "accelerator": "TPU"
  },
  "cells": [
    {
      "cell_type": "markdown",
      "source": [
        "##Final model on MobileNetV2"
      ],
      "metadata": {
        "id": "Fk0ae6SaLrTH"
      }
    },
    {
      "cell_type": "markdown",
      "source": [
        "###Mount google drive"
      ],
      "metadata": {
        "id": "m_Kdmi4UL5hQ"
      }
    },
    {
      "cell_type": "code",
      "execution_count": null,
      "metadata": {
        "colab": {
          "base_uri": "https://localhost:8080/"
        },
        "id": "pq-iKDiMfGim",
        "outputId": "6a5697cb-16c2-464e-876e-443f28a880f5"
      },
      "outputs": [
        {
          "output_type": "stream",
          "name": "stdout",
          "text": [
            "Drive already mounted at /content/gdrive; to attempt to forcibly remount, call drive.mount(\"/content/gdrive\", force_remount=True).\n"
          ]
        }
      ],
      "source": [
        "from google.colab import drive\n",
        "drive.mount('/content/gdrive')"
      ]
    },
    {
      "cell_type": "code",
      "source": [
        "# root_path='/content/gdrive/MyDrive/Defect_Anomaly_CV_IITJ/Images_PrithviAI/Images'"
      ],
      "metadata": {
        "id": "3QnUeZz5hFdT"
      },
      "execution_count": null,
      "outputs": []
    },
    {
      "cell_type": "markdown",
      "source": [
        "###Import necessary libraries"
      ],
      "metadata": {
        "id": "EOrFe7FVMLXL"
      }
    },
    {
      "cell_type": "code",
      "source": [
        "import pandas as pd\n",
        "import numpy as np\n",
        "import cv2\n",
        "import os\n",
        "from pathlib import Path\n",
        "import glob\n",
        "import os\n",
        "import cv2\n",
        "import matplotlib.pyplot as plt\n",
        "from PIL import Image\n",
        "import tensorflow as tf\n",
        "from tensorflow import keras\n",
        "from tensorflow.keras import layers\n",
        "from tensorflow.keras.models import Sequential\n",
        "import tensorflow_hub as hub"
      ],
      "metadata": {
        "id": "U8ehEwhGi74F"
      },
      "execution_count": null,
      "outputs": []
    },
    {
      "cell_type": "code",
      "source": [
        "#Check path is correct or not\n",
        "img = cv2.imread(\"/content/gdrive/MyDrive/Defect_Anomaly_CV_IITJ/Images_PrithviAI/Images/000003.png\", cv2.IMREAD_COLOR)\n",
        "plt.imshow(img)"
      ],
      "metadata": {
        "colab": {
          "base_uri": "https://localhost:8080/",
          "height": 151
        },
        "id": "zkpQwan1jB4g",
        "outputId": "e44994de-5996-4845-b604-c26e40ecf417"
      },
      "execution_count": null,
      "outputs": [
        {
          "output_type": "execute_result",
          "data": {
            "text/plain": [
              "<matplotlib.image.AxesImage at 0x7f877b7f3b50>"
            ]
          },
          "metadata": {},
          "execution_count": 4
        },
        {
          "output_type": "display_data",
          "data": {
            "image/png": "[encoded data removed]",
            "text/plain": [
              "<Figure size 432x288 with 1 Axes>"
            ]
          },
          "metadata": {
            "needs_background": "light"
          }
        }
      ]
    },
    {
      "cell_type": "markdown",
      "source": [
        "###It is used to store data in python list "
      ],
      "metadata": {
        "id": "2mFQ2IOqMSjo"
      }
    },
    {
      "cell_type": "code",
      "source": [
        "image = []                  # used to store image data /content/gdrive/MyDrive/Object_detection/Data/train/images/img1.jpeg\n",
        "img_label = []  \n",
        "           # used to store image label\n",
        "for i in range(1,500):\n",
        "    j='img'+str(i)+'.jpeg'\n",
        "    if ((Path.cwd() / \"/content/gdrive/MyDrive/Defect_Anomaly_CV_IITJ/Object_detection/Data/train/images\" / j).exists() == True):         # check if image exists or not\n",
        "        img = cv2.imread(\"/content/gdrive/MyDrive/Defect_Anomaly_CV_IITJ/Object_detection/Data/train/images/\" + j, cv2.IMREAD_COLOR)       # read image using opencv \n",
        "        img = cv2.resize(img, (224,224))                                                                   #resize image \n",
        "        img = cv2.cvtColor(img, cv2.COLOR_RGB2BGR)                                                                 #resize image \n",
        "        img_label.append(1)\n",
        "        image.append(img) \n",
        "    else:\n",
        "        pass"
      ],
      "metadata": {
        "id": "cbFL35vdh1Rh"
      },
      "execution_count": null,
      "outputs": []
    },
    {
      "cell_type": "code",
      "source": [
        "len(image), len(img_label)"
      ],
      "metadata": {
        "colab": {
          "base_uri": "https://localhost:8080/"
        },
        "id": "o_9C6dUsaTT8",
        "outputId": "c0bd642c-a2ab-48c5-8b5f-d903885cd223"
      },
      "execution_count": null,
      "outputs": [
        {
          "output_type": "execute_result",
          "data": {
            "text/plain": [
              "(499, 499)"
            ]
          },
          "metadata": {},
          "execution_count": 6
        }
      ]
    },
    {
      "cell_type": "markdown",
      "source": [
        "##Read a dataframe and then concatenate previous images in them"
      ],
      "metadata": {
        "id": "Fa5CRRUFMZuK"
      }
    },
    {
      "cell_type": "code",
      "source": [
        "df=pd.read_csv(\"/content/gdrive/MyDrive/Defect_Anomaly_CV_IITJ/Images_PrithviAI/Train_DefectType_PrithviAI.csv\")"
      ],
      "metadata": {
        "id": "JeAXYzBaun24"
      },
      "execution_count": null,
      "outputs": []
    },
    {
      "cell_type": "code",
      "source": [
        "df.head()"
      ],
      "metadata": {
        "colab": {
          "base_uri": "https://localhost:8080/",
          "height": 206
        },
        "id": "9Vio_tsD7n9p",
        "outputId": "1b648b25-016c-47af-9633-10791997ebf3"
      },
      "execution_count": null,
      "outputs": [
        {
          "output_type": "execute_result",
          "data": {
            "text/html": [
              "\n",
              "  <div id=\"df-5f62bc0f-332c-48bf-9ac5-29ead7271e60\">\n",
              "    <div class=\"colab-df-container\">\n",
              "      <div>\n",
              "<style scoped>\n",
              "    .dataframe tbody tr th:only-of-type {\n",
              "        vertical-align: middle;\n",
              "    }\n",
              "\n",
              "    .dataframe tbody tr th {\n",
              "        vertical-align: top;\n",
              "    }\n",
              "\n",
              "    .dataframe thead th {\n",
              "        text-align: right;\n",
              "    }\n",
              "</style>\n",
              "<table border=\"1\" class=\"dataframe\">\n",
              "  <thead>\n",
              "    <tr style=\"text-align: right;\">\n",
              "      <th></th>\n",
              "      <th>images id</th>\n",
              "      <th>defect_flag</th>\n",
              "    </tr>\n",
              "  </thead>\n",
              "  <tbody>\n",
              "    <tr>\n",
              "      <th>0</th>\n",
              "      <td>000001.png</td>\n",
              "      <td>0</td>\n",
              "    </tr>\n",
              "    <tr>\n",
              "      <th>1</th>\n",
              "      <td>000002.png</td>\n",
              "      <td>0</td>\n",
              "    </tr>\n",
              "    <tr>\n",
              "      <th>2</th>\n",
              "      <td>000003.png</td>\n",
              "      <td>1</td>\n",
              "    </tr>\n",
              "    <tr>\n",
              "      <th>3</th>\n",
              "      <td>000004.png</td>\n",
              "      <td>0</td>\n",
              "    </tr>\n",
              "    <tr>\n",
              "      <th>4</th>\n",
              "      <td>000005.png</td>\n",
              "      <td>1</td>\n",
              "    </tr>\n",
              "  </tbody>\n",
              "</table>\n",
              "</div>\n",
              "      <button class=\"colab-df-convert\" onclick=\"convertToInteractive('df-5f62bc0f-332c-48bf-9ac5-29ead7271e60')\"\n",
              "              title=\"Convert this dataframe to an interactive table.\"\n",
              "              style=\"display:none;\">\n",
              "        \n",
              "  <svg xmlns=\"http://www.w3.org/2000/svg\" height=\"24px\"viewBox=\"0 0 24 24\"\n",
              "       width=\"24px\">\n",
              "    <path d=\"M0 0h24v24H0V0z\" fill=\"none\"/>\n",
              "    <path d=\"M18.56 5.44l.94 2.06.94-2.06 2.06-.94-2.06-.94-.94-2.06-.94 2.06-2.06.94zm-11 1L8.5 8.5l.94-2.06 2.06-.94-2.06-.94L8.5 2.5l-.94 2.06-2.06.94zm10 10l.94 2.06.94-2.06 2.06-.94-2.06-.94-.94-2.06-.94 2.06-2.06.94z\"/><path d=\"M17.41 7.96l-1.37-1.37c-.4-.4-.92-.59-1.43-.59-.52 0-1.04.2-1.43.59L10.3 9.45l-7.72 7.72c-.78.78-.78 2.05 0 2.83L4 21.41c.39.39.9.59 1.41.59.51 0 1.02-.2 1.41-.59l7.78-7.78 2.81-2.81c.8-.78.8-2.07 0-2.86zM5.41 20L4 18.59l7.72-7.72 1.47 1.35L5.41 20z\"/>\n",
              "  </svg>\n",
              "      </button>\n",
              "      \n",
              "  <style>\n",
              "    .colab-df-container {\n",
              "      display:flex;\n",
              "      flex-wrap:wrap;\n",
              "      gap: 12px;\n",
              "    }\n",
              "\n",
              "    .colab-df-convert {\n",
              "      background-color: #E8F0FE;\n",
              "      border: none;\n",
              "      border-radius: 50%;\n",
              "      cursor: pointer;\n",
              "      display: none;\n",
              "      fill: #1967D2;\n",
              "      height: 32px;\n",
              "      padding: 0 0 0 0;\n",
              "      width: 32px;\n",
              "    }\n",
              "\n",
              "    .colab-df-convert:hover {\n",
              "      background-color: #E2EBFA;\n",
              "      box-shadow: 0px 1px 2px rgba(60, 64, 67, 0.3), 0px 1px 3px 1px rgba(60, 64, 67, 0.15);\n",
              "      fill: #174EA6;\n",
              "    }\n",
              "\n",
              "    [theme=dark] .colab-df-convert {\n",
              "      background-color: #3B4455;\n",
              "      fill: #D2E3FC;\n",
              "    }\n",
              "\n",
              "    [theme=dark] .colab-df-convert:hover {\n",
              "      background-color: #434B5C;\n",
              "      box-shadow: 0px 1px 3px 1px rgba(0, 0, 0, 0.15);\n",
              "      filter: drop-shadow(0px 1px 2px rgba(0, 0, 0, 0.3));\n",
              "      fill: #FFFFFF;\n",
              "    }\n",
              "  </style>\n",
              "\n",
              "      <script>\n",
              "        const buttonEl =\n",
              "          document.querySelector('#df-5f62bc0f-332c-48bf-9ac5-29ead7271e60 button.colab-df-convert');\n",
              "        buttonEl.style.display =\n",
              "          google.colab.kernel.accessAllowed ? 'block' : 'none';\n",
              "\n",
              "        async function convertToInteractive(key) {\n",
              "          const element = document.querySelector('#df-5f62bc0f-332c-48bf-9ac5-29ead7271e60');\n",
              "          const dataTable =\n",
              "            await google.colab.kernel.invokeFunction('convertToInteractive',\n",
              "                                                     [key], {});\n",
              "          if (!dataTable) return;\n",
              "\n",
              "          const docLinkHtml = 'Like what you see? Visit the ' +\n",
              "            '<a target=\"_blank\" href=https://colab.research.google.com/notebooks/data_table.ipynb>data table notebook</a>'\n",
              "            + ' to learn more about interactive tables.';\n",
              "          element.innerHTML = '';\n",
              "          dataTable['output_type'] = 'display_data';\n",
              "          await google.colab.output.renderOutput(dataTable, element);\n",
              "          const docLink = document.createElement('div');\n",
              "          docLink.innerHTML = docLinkHtml;\n",
              "          element.appendChild(docLink);\n",
              "        }\n",
              "      </script>\n",
              "    </div>\n",
              "  </div>\n",
              "  "
            ],
            "text/plain": [
              "    images id  defect_flag\n",
              "0  000001.png            0\n",
              "1  000002.png            0\n",
              "2  000003.png            1\n",
              "3  000004.png            0\n",
              "4  000005.png            1"
            ]
          },
          "metadata": {},
          "execution_count": 8
        }
      ]
    },
    {
      "cell_type": "code",
      "source": [
        "df.rename(columns={\"images id\": \"images_id\"}, inplace = True)\n",
        "df.head()"
      ],
      "metadata": {
        "colab": {
          "base_uri": "https://localhost:8080/",
          "height": 206
        },
        "id": "gJpZZ4108lSq",
        "outputId": "7039efb3-82e3-462b-b601-3e5d273f4876"
      },
      "execution_count": null,
      "outputs": [
        {
          "output_type": "execute_result",
          "data": {
            "text/html": [
              "\n",
              "  <div id=\"df-ac171589-8acf-4857-9351-6d50329dd967\">\n",
              "    <div class=\"colab-df-container\">\n",
              "      <div>\n",
              "<style scoped>\n",
              "    .dataframe tbody tr th:only-of-type {\n",
              "        vertical-align: middle;\n",
              "    }\n",
              "\n",
              "    .dataframe tbody tr th {\n",
              "        vertical-align: top;\n",
              "    }\n",
              "\n",
              "    .dataframe thead th {\n",
              "        text-align: right;\n",
              "    }\n",
              "</style>\n",
              "<table border=\"1\" class=\"dataframe\">\n",
              "  <thead>\n",
              "    <tr style=\"text-align: right;\">\n",
              "      <th></th>\n",
              "      <th>images_id</th>\n",
              "      <th>defect_flag</th>\n",
              "    </tr>\n",
              "  </thead>\n",
              "  <tbody>\n",
              "    <tr>\n",
              "      <th>0</th>\n",
              "      <td>000001.png</td>\n",
              "      <td>0</td>\n",
              "    </tr>\n",
              "    <tr>\n",
              "      <th>1</th>\n",
              "      <td>000002.png</td>\n",
              "      <td>0</td>\n",
              "    </tr>\n",
              "    <tr>\n",
              "      <th>2</th>\n",
              "      <td>000003.png</td>\n",
              "      <td>1</td>\n",
              "    </tr>\n",
              "    <tr>\n",
              "      <th>3</th>\n",
              "      <td>000004.png</td>\n",
              "      <td>0</td>\n",
              "    </tr>\n",
              "    <tr>\n",
              "      <th>4</th>\n",
              "      <td>000005.png</td>\n",
              "      <td>1</td>\n",
              "    </tr>\n",
              "  </tbody>\n",
              "</table>\n",
              "</div>\n",
              "      <button class=\"colab-df-convert\" onclick=\"convertToInteractive('df-ac171589-8acf-4857-9351-6d50329dd967')\"\n",
              "              title=\"Convert this dataframe to an interactive table.\"\n",
              "              style=\"display:none;\">\n",
              "        \n",
              "  <svg xmlns=\"http://www.w3.org/2000/svg\" height=\"24px\"viewBox=\"0 0 24 24\"\n",
              "       width=\"24px\">\n",
              "    <path d=\"M0 0h24v24H0V0z\" fill=\"none\"/>\n",
              "    <path d=\"M18.56 5.44l.94 2.06.94-2.06 2.06-.94-2.06-.94-.94-2.06-.94 2.06-2.06.94zm-11 1L8.5 8.5l.94-2.06 2.06-.94-2.06-.94L8.5 2.5l-.94 2.06-2.06.94zm10 10l.94 2.06.94-2.06 2.06-.94-2.06-.94-.94-2.06-.94 2.06-2.06.94z\"/><path d=\"M17.41 7.96l-1.37-1.37c-.4-.4-.92-.59-1.43-.59-.52 0-1.04.2-1.43.59L10.3 9.45l-7.72 7.72c-.78.78-.78 2.05 0 2.83L4 21.41c.39.39.9.59 1.41.59.51 0 1.02-.2 1.41-.59l7.78-7.78 2.81-2.81c.8-.78.8-2.07 0-2.86zM5.41 20L4 18.59l7.72-7.72 1.47 1.35L5.41 20z\"/>\n",
              "  </svg>\n",
              "      </button>\n",
              "      \n",
              "  <style>\n",
              "    .colab-df-container {\n",
              "      display:flex;\n",
              "      flex-wrap:wrap;\n",
              "      gap: 12px;\n",
              "    }\n",
              "\n",
              "    .colab-df-convert {\n",
              "      background-color: #E8F0FE;\n",
              "      border: none;\n",
              "      border-radius: 50%;\n",
              "      cursor: pointer;\n",
              "      display: none;\n",
              "      fill: #1967D2;\n",
              "      height: 32px;\n",
              "      padding: 0 0 0 0;\n",
              "      width: 32px;\n",
              "    }\n",
              "\n",
              "    .colab-df-convert:hover {\n",
              "      background-color: #E2EBFA;\n",
              "      box-shadow: 0px 1px 2px rgba(60, 64, 67, 0.3), 0px 1px 3px 1px rgba(60, 64, 67, 0.15);\n",
              "      fill: #174EA6;\n",
              "    }\n",
              "\n",
              "    [theme=dark] .colab-df-convert {\n",
              "      background-color: #3B4455;\n",
              "      fill: #D2E3FC;\n",
              "    }\n",
              "\n",
              "    [theme=dark] .colab-df-convert:hover {\n",
              "      background-color: #434B5C;\n",
              "      box-shadow: 0px 1px 3px 1px rgba(0, 0, 0, 0.15);\n",
              "      filter: drop-shadow(0px 1px 2px rgba(0, 0, 0, 0.3));\n",
              "      fill: #FFFFFF;\n",
              "    }\n",
              "  </style>\n",
              "\n",
              "      <script>\n",
              "        const buttonEl =\n",
              "          document.querySelector('#df-ac171589-8acf-4857-9351-6d50329dd967 button.colab-df-convert');\n",
              "        buttonEl.style.display =\n",
              "          google.colab.kernel.accessAllowed ? 'block' : 'none';\n",
              "\n",
              "        async function convertToInteractive(key) {\n",
              "          const element = document.querySelector('#df-ac171589-8acf-4857-9351-6d50329dd967');\n",
              "          const dataTable =\n",
              "            await google.colab.kernel.invokeFunction('convertToInteractive',\n",
              "                                                     [key], {});\n",
              "          if (!dataTable) return;\n",
              "\n",
              "          const docLinkHtml = 'Like what you see? Visit the ' +\n",
              "            '<a target=\"_blank\" href=https://colab.research.google.com/notebooks/data_table.ipynb>data table notebook</a>'\n",
              "            + ' to learn more about interactive tables.';\n",
              "          element.innerHTML = '';\n",
              "          dataTable['output_type'] = 'display_data';\n",
              "          await google.colab.output.renderOutput(dataTable, element);\n",
              "          const docLink = document.createElement('div');\n",
              "          docLink.innerHTML = docLinkHtml;\n",
              "          element.appendChild(docLink);\n",
              "        }\n",
              "      </script>\n",
              "    </div>\n",
              "  </div>\n",
              "  "
            ],
            "text/plain": [
              "    images_id  defect_flag\n",
              "0  000001.png            0\n",
              "1  000002.png            0\n",
              "2  000003.png            1\n",
              "3  000004.png            0\n",
              "4  000005.png            1"
            ]
          },
          "metadata": {},
          "execution_count": 9
        }
      ]
    },
    {
      "cell_type": "markdown",
      "source": [
        "###Concatenate images in python list from dataframe"
      ],
      "metadata": {
        "id": "HDfnXKOE22nX"
      }
    },
    {
      "cell_type": "code",
      "source": [
        "# image = []                  # used to store image data\n",
        "# img_label = []  \n",
        "# defect=0\n",
        "# good=0            # used to store image label\n",
        "for i in df[\"images_id\"]:\n",
        "    if ((Path.cwd() / \"/content/gdrive/MyDrive/Defect_Anomaly_CV_IITJ/Images_PrithviAI/Images\" / i).exists() == True):         # check if image exists or not\n",
        "        img = cv2.imread(\"/content/gdrive/MyDrive/Defect_Anomaly_CV_IITJ/Images_PrithviAI/Images/\" + i, cv2.IMREAD_COLOR)       # read image using opencv \n",
        "        img = cv2.resize(img, (224,224))                                                                   #resize image \n",
        "        img = cv2.cvtColor(img, cv2.COLOR_RGB2BGR)\n",
        "        img_label.append(df.loc[df[\"images_id\"] == i, \"defect_flag\"].iloc[0])\n",
        "        image.append(img) \n",
        "    else:\n",
        "        pass"
      ],
      "metadata": {
        "id": "AEriG8wU9nYc"
      },
      "execution_count": null,
      "outputs": []
    },
    {
      "cell_type": "code",
      "source": [
        "img = cv2.imread(\"/content/gdrive/MyDrive/Defect_Anomaly_CV_IITJ/Object_detection/Data_/train/images/img817.jpeg\", cv2.IMREAD_COLOR)\n",
        "plt.imshow(img)"
      ],
      "metadata": {
        "colab": {
          "base_uri": "https://localhost:8080/",
          "height": 151
        },
        "id": "Ux4uQQrA63a1",
        "outputId": "ab6e9b97-94d0-4252-da1b-91934648b4c5"
      },
      "execution_count": null,
      "outputs": [
        {
          "output_type": "execute_result",
          "data": {
            "text/plain": [
              "<matplotlib.image.AxesImage at 0x7f877b18f210>"
            ]
          },
          "metadata": {},
          "execution_count": 11
        },
        {
          "output_type": "display_data",
          "data": {
            "image/png": "[encoded data removed]",
            "text/plain": [
              "<Figure size 432x288 with 1 Axes>"
            ]
          },
          "metadata": {
            "needs_background": "light"
          }
        }
      ]
    },
    {
      "cell_type": "code",
      "source": [
        "#Read different 900 images from another location and add all the images in final python list\n",
        "for i in range(1,900):\n",
        "    j='img'+str(i)+'.jpeg'\n",
        "    if ((Path.cwd() / \"/content/gdrive/MyDrive/Defect_Anomaly_CV_IITJ/Object_detection/Data_/train/images\" / j).exists() == True):         # check if image exists or not\n",
        "        img = cv2.imread(\"/content/gdrive/MyDrive/Defect_Anomaly_CV_IITJ/Object_detection/Data_/train/images/\" + j, cv2.IMREAD_COLOR)       # read image using opencv \n",
        "        img = cv2.resize(img, (224,224))                                                                   #resize image \n",
        "        img = cv2.cvtColor(img, cv2.COLOR_RGB2BGR)                                                                 #resize image \n",
        "        img_label.append(1)\n",
        "        image.append(img) \n",
        "    else:\n",
        "        pass"
      ],
      "metadata": {
        "id": "3sJ3KP3v5amA"
      },
      "execution_count": null,
      "outputs": []
    },
    {
      "cell_type": "code",
      "source": [
        "#total number of original training images\n",
        "len(image)"
      ],
      "metadata": {
        "colab": {
          "base_uri": "https://localhost:8080/"
        },
        "id": "8ZgFNa0VD5L9",
        "outputId": "ca021e76-b7c5-4cea-8ef2-b65ea5f0dc54"
      },
      "execution_count": null,
      "outputs": [
        {
          "output_type": "execute_result",
          "data": {
            "text/plain": [
              "4668"
            ]
          },
          "metadata": {},
          "execution_count": 13
        }
      ]
    },
    {
      "cell_type": "code",
      "source": [
        "len(img_label)"
      ],
      "metadata": {
        "colab": {
          "base_uri": "https://localhost:8080/"
        },
        "id": "MDBA60HoKDdg",
        "outputId": "77e7cd86-bdf9-49ac-ae91-7b8933279d83"
      },
      "execution_count": null,
      "outputs": [
        {
          "output_type": "execute_result",
          "data": {
            "text/plain": [
              "4668"
            ]
          },
          "metadata": {},
          "execution_count": 14
        }
      ]
    },
    {
      "cell_type": "code",
      "source": [
        "#convert into numpy array\n",
        "image=np.array(image)\n",
        "img_label=np.array(img_label)"
      ],
      "metadata": {
        "id": "nIgTQ7JqKKVD"
      },
      "execution_count": null,
      "outputs": []
    },
    {
      "cell_type": "markdown",
      "source": [
        "###Visualize the plot of number of training data"
      ],
      "metadata": {
        "id": "jx0zqvWw6B-E"
      }
    },
    {
      "cell_type": "code",
      "source": [
        "plt.hist(img_label)"
      ],
      "metadata": {
        "colab": {
          "base_uri": "https://localhost:8080/",
          "height": 334
        },
        "id": "dJ0FiV8SqQnQ",
        "outputId": "776bdfd2-0eb4-495e-9926-f67f3db5b004"
      },
      "execution_count": null,
      "outputs": [
        {
          "output_type": "execute_result",
          "data": {
            "text/plain": [
              "(array([2658.,    0.,    0.,    0.,    0.,    0.,    0.,    0.,    0.,\n",
              "        2010.]),\n",
              " array([0. , 0.1, 0.2, 0.3, 0.4, 0.5, 0.6, 0.7, 0.8, 0.9, 1. ]),\n",
              " <a list of 10 Patch objects>)"
            ]
          },
          "metadata": {},
          "execution_count": 16
        },
        {
          "output_type": "display_data",
          "data": {
            "image/png": "[encoded data removed]",
            "text/plain": [
              "<Figure size 432x288 with 1 Axes>"
            ]
          },
          "metadata": {
            "needs_background": "light"
          }
        }
      ]
    },
    {
      "cell_type": "code",
      "source": [
        "img_label.sum()"
      ],
      "metadata": {
        "colab": {
          "base_uri": "https://localhost:8080/"
        },
        "id": "xu4pIxyqhgrd",
        "outputId": "72c10914-378a-420a-9d20-b5bd637f39bb"
      },
      "execution_count": null,
      "outputs": [
        {
          "output_type": "execute_result",
          "data": {
            "text/plain": [
              "2010"
            ]
          },
          "metadata": {},
          "execution_count": 17
        }
      ]
    },
    {
      "cell_type": "code",
      "source": [
        "print(image.shape)\n",
        "print(image.shape[1])\n",
        "print(image.shape[2])\n",
        "f = (image.shape[0], image.shape[2])\n",
        "print(f)"
      ],
      "metadata": {
        "colab": {
          "base_uri": "https://localhost:8080/"
        },
        "id": "HR16eFmCKWXb",
        "outputId": "c65003f5-dba1-4f0f-ca03-59f210ee8e70"
      },
      "execution_count": null,
      "outputs": [
        {
          "output_type": "stream",
          "name": "stdout",
          "text": [
            "(4668, 224, 224, 3)\n",
            "224\n",
            "224\n",
            "(4668, 224)\n"
          ]
        }
      ]
    },
    {
      "cell_type": "code",
      "source": [
        "# df = pd.DataFrame(list(zip(image, img_label)),columns =['Image','label'])\n",
        "# df.head()"
      ],
      "metadata": {
        "id": "bE7bxBYPKfY8"
      },
      "execution_count": null,
      "outputs": []
    },
    {
      "cell_type": "code",
      "source": [
        "# df.shape"
      ],
      "metadata": {
        "id": "V8lEhEg-hMUf"
      },
      "execution_count": null,
      "outputs": []
    },
    {
      "cell_type": "code",
      "source": [
        "# df.to_csv(\"final.csv\", index = False)"
      ],
      "metadata": {
        "id": "pfjLTuILr0Dn"
      },
      "execution_count": null,
      "outputs": []
    },
    {
      "cell_type": "code",
      "source": [
        "# plt.imshow(df[\"Image\"][0])"
      ],
      "metadata": {
        "id": "3pBtc61oQd_f"
      },
      "execution_count": null,
      "outputs": []
    },
    {
      "cell_type": "code",
      "source": [
        "# plt.imshow(df[\"Image\"][2])"
      ],
      "metadata": {
        "id": "nfmTwEbLQAQk"
      },
      "execution_count": null,
      "outputs": []
    },
    {
      "cell_type": "code",
      "source": [
        "#split dataset into 80 % training and 20% testing\n",
        "from sklearn.model_selection import train_test_split\n",
        "x_train, x_test, y_train, y_test = train_test_split(image, img_label, test_size = 0.2, random_state = 100)"
      ],
      "metadata": {
        "id": "LRlTgLH4vVa6"
      },
      "execution_count": null,
      "outputs": []
    },
    {
      "cell_type": "code",
      "source": [
        "# x_trained = np.array(x_train)\n",
        "# y_trained = np.array(y_train)\n",
        "# x_tested = np.array(x_test)\n",
        "# y_tested = np.array(y_test)"
      ],
      "metadata": {
        "id": "uJdyxz22vraT"
      },
      "execution_count": null,
      "outputs": []
    },
    {
      "cell_type": "code",
      "source": [
        "plt.hist(y_train)"
      ],
      "metadata": {
        "colab": {
          "base_uri": "https://localhost:8080/",
          "height": 334
        },
        "id": "amc24IVmv5fv",
        "outputId": "4c10732f-3366-4f0a-8517-98278fd46932"
      },
      "execution_count": null,
      "outputs": [
        {
          "output_type": "execute_result",
          "data": {
            "text/plain": [
              "(array([2124.,    0.,    0.,    0.,    0.,    0.,    0.,    0.,    0.,\n",
              "        1610.]),\n",
              " array([0. , 0.1, 0.2, 0.3, 0.4, 0.5, 0.6, 0.7, 0.8, 0.9, 1. ]),\n",
              " <a list of 10 Patch objects>)"
            ]
          },
          "metadata": {},
          "execution_count": 26
        },
        {
          "output_type": "display_data",
          "data": {
            "image/png": "[encoded data removed]",
            "text/plain": [
              "<Figure size 432x288 with 1 Axes>"
            ]
          },
          "metadata": {
            "needs_background": "light"
          }
        }
      ]
    },
    {
      "cell_type": "code",
      "source": [
        "y_train.shape"
      ],
      "metadata": {
        "colab": {
          "base_uri": "https://localhost:8080/"
        },
        "id": "UREUi1uwAcR4",
        "outputId": "3fc8e556-9c50-4e50-b7e6-acb070ff46e5"
      },
      "execution_count": null,
      "outputs": [
        {
          "output_type": "execute_result",
          "data": {
            "text/plain": [
              "(3734,)"
            ]
          },
          "metadata": {},
          "execution_count": 27
        }
      ]
    },
    {
      "cell_type": "code",
      "source": [
        "#visualize the plot of testing data\n",
        "plt.hist(y_test)"
      ],
      "metadata": {
        "colab": {
          "base_uri": "https://localhost:8080/",
          "height": 317
        },
        "id": "F5mYqekwv8u6",
        "outputId": "485e2cca-2b7e-46f5-a455-7a6bb6d3aa1c"
      },
      "execution_count": null,
      "outputs": [
        {
          "output_type": "execute_result",
          "data": {
            "text/plain": [
              "(array([534.,   0.,   0.,   0.,   0.,   0.,   0.,   0.,   0., 400.]),\n",
              " array([0. , 0.1, 0.2, 0.3, 0.4, 0.5, 0.6, 0.7, 0.8, 0.9, 1. ]),\n",
              " <a list of 10 Patch objects>)"
            ]
          },
          "metadata": {},
          "execution_count": 28
        },
        {
          "output_type": "display_data",
          "data": {
            "image/png": "[encoded data removed]",
            "text/plain": [
              "<Figure size 432x288 with 1 Axes>"
            ]
          },
          "metadata": {
            "needs_background": "light"
          }
        }
      ]
    },
    {
      "cell_type": "code",
      "source": [
        "#Make a dataframe by concatenating all the numpy array\n",
        "df1 = pd.DataFrame(list(zip(x_train, y_train)),columns =['Image','label'])\n",
        "df1.head()"
      ],
      "metadata": {
        "colab": {
          "base_uri": "https://localhost:8080/",
          "height": 206
        },
        "id": "goL0tsY8wCQn",
        "outputId": "de9c92c0-4b30-4483-b6f3-277a98dc232c"
      },
      "execution_count": null,
      "outputs": [
        {
          "output_type": "execute_result",
          "data": {
            "text/html": [
              "\n",
              "  <div id=\"df-097a2d8d-5ca4-4926-86a1-a7c9c0e98b96\">\n",
              "    <div class=\"colab-df-container\">\n",
              "      <div>\n",
              "<style scoped>\n",
              "    .dataframe tbody tr th:only-of-type {\n",
              "        vertical-align: middle;\n",
              "    }\n",
              "\n",
              "    .dataframe tbody tr th {\n",
              "        vertical-align: top;\n",
              "    }\n",
              "\n",
              "    .dataframe thead th {\n",
              "        text-align: right;\n",
              "    }\n",
              "</style>\n",
              "<table border=\"1\" class=\"dataframe\">\n",
              "  <thead>\n",
              "    <tr style=\"text-align: right;\">\n",
              "      <th></th>\n",
              "      <th>Image</th>\n",
              "      <th>label</th>\n",
              "    </tr>\n",
              "  </thead>\n",
              "  <tbody>\n",
              "    <tr>\n",
              "      <th>0</th>\n",
              "      <td>[[[57, 57, 57], [49, 49, 49], [52, 52, 52], [5...</td>\n",
              "      <td>0</td>\n",
              "    </tr>\n",
              "    <tr>\n",
              "      <th>1</th>\n",
              "      <td>[[[54, 54, 54], [48, 48, 48], [54, 54, 54], [5...</td>\n",
              "      <td>0</td>\n",
              "    </tr>\n",
              "    <tr>\n",
              "      <th>2</th>\n",
              "      <td>[[[44, 44, 44], [56, 56, 56], [55, 55, 55], [5...</td>\n",
              "      <td>0</td>\n",
              "    </tr>\n",
              "    <tr>\n",
              "      <th>3</th>\n",
              "      <td>[[[12, 12, 12], [15, 15, 15], [54, 54, 54], [4...</td>\n",
              "      <td>0</td>\n",
              "    </tr>\n",
              "    <tr>\n",
              "      <th>4</th>\n",
              "      <td>[[[8, 8, 8], [7, 7, 7], [7, 7, 7], [5, 5, 5], ...</td>\n",
              "      <td>1</td>\n",
              "    </tr>\n",
              "  </tbody>\n",
              "</table>\n",
              "</div>\n",
              "      <button class=\"colab-df-convert\" onclick=\"convertToInteractive('df-097a2d8d-5ca4-4926-86a1-a7c9c0e98b96')\"\n",
              "              title=\"Convert this dataframe to an interactive table.\"\n",
              "              style=\"display:none;\">\n",
              "        \n",
              "  <svg xmlns=\"http://www.w3.org/2000/svg\" height=\"24px\"viewBox=\"0 0 24 24\"\n",
              "       width=\"24px\">\n",
              "    <path d=\"M0 0h24v24H0V0z\" fill=\"none\"/>\n",
              "    <path d=\"M18.56 5.44l.94 2.06.94-2.06 2.06-.94-2.06-.94-.94-2.06-.94 2.06-2.06.94zm-11 1L8.5 8.5l.94-2.06 2.06-.94-2.06-.94L8.5 2.5l-.94 2.06-2.06.94zm10 10l.94 2.06.94-2.06 2.06-.94-2.06-.94-.94-2.06-.94 2.06-2.06.94z\"/><path d=\"M17.41 7.96l-1.37-1.37c-.4-.4-.92-.59-1.43-.59-.52 0-1.04.2-1.43.59L10.3 9.45l-7.72 7.72c-.78.78-.78 2.05 0 2.83L4 21.41c.39.39.9.59 1.41.59.51 0 1.02-.2 1.41-.59l7.78-7.78 2.81-2.81c.8-.78.8-2.07 0-2.86zM5.41 20L4 18.59l7.72-7.72 1.47 1.35L5.41 20z\"/>\n",
              "  </svg>\n",
              "      </button>\n",
              "      \n",
              "  <style>\n",
              "    .colab-df-container {\n",
              "      display:flex;\n",
              "      flex-wrap:wrap;\n",
              "      gap: 12px;\n",
              "    }\n",
              "\n",
              "    .colab-df-convert {\n",
              "      background-color: #E8F0FE;\n",
              "      border: none;\n",
              "      border-radius: 50%;\n",
              "      cursor: pointer;\n",
              "      display: none;\n",
              "      fill: #1967D2;\n",
              "      height: 32px;\n",
              "      padding: 0 0 0 0;\n",
              "      width: 32px;\n",
              "    }\n",
              "\n",
              "    .colab-df-convert:hover {\n",
              "      background-color: #E2EBFA;\n",
              "      box-shadow: 0px 1px 2px rgba(60, 64, 67, 0.3), 0px 1px 3px 1px rgba(60, 64, 67, 0.15);\n",
              "      fill: #174EA6;\n",
              "    }\n",
              "\n",
              "    [theme=dark] .colab-df-convert {\n",
              "      background-color: #3B4455;\n",
              "      fill: #D2E3FC;\n",
              "    }\n",
              "\n",
              "    [theme=dark] .colab-df-convert:hover {\n",
              "      background-color: #434B5C;\n",
              "      box-shadow: 0px 1px 3px 1px rgba(0, 0, 0, 0.15);\n",
              "      filter: drop-shadow(0px 1px 2px rgba(0, 0, 0, 0.3));\n",
              "      fill: #FFFFFF;\n",
              "    }\n",
              "  </style>\n",
              "\n",
              "      <script>\n",
              "        const buttonEl =\n",
              "          document.querySelector('#df-097a2d8d-5ca4-4926-86a1-a7c9c0e98b96 button.colab-df-convert');\n",
              "        buttonEl.style.display =\n",
              "          google.colab.kernel.accessAllowed ? 'block' : 'none';\n",
              "\n",
              "        async function convertToInteractive(key) {\n",
              "          const element = document.querySelector('#df-097a2d8d-5ca4-4926-86a1-a7c9c0e98b96');\n",
              "          const dataTable =\n",
              "            await google.colab.kernel.invokeFunction('convertToInteractive',\n",
              "                                                     [key], {});\n",
              "          if (!dataTable) return;\n",
              "\n",
              "          const docLinkHtml = 'Like what you see? Visit the ' +\n",
              "            '<a target=\"_blank\" href=https://colab.research.google.com/notebooks/data_table.ipynb>data table notebook</a>'\n",
              "            + ' to learn more about interactive tables.';\n",
              "          element.innerHTML = '';\n",
              "          dataTable['output_type'] = 'display_data';\n",
              "          await google.colab.output.renderOutput(dataTable, element);\n",
              "          const docLink = document.createElement('div');\n",
              "          docLink.innerHTML = docLinkHtml;\n",
              "          element.appendChild(docLink);\n",
              "        }\n",
              "      </script>\n",
              "    </div>\n",
              "  </div>\n",
              "  "
            ],
            "text/plain": [
              "                                               Image  label\n",
              "0  [[[57, 57, 57], [49, 49, 49], [52, 52, 52], [5...      0\n",
              "1  [[[54, 54, 54], [48, 48, 48], [54, 54, 54], [5...      0\n",
              "2  [[[44, 44, 44], [56, 56, 56], [55, 55, 55], [5...      0\n",
              "3  [[[12, 12, 12], [15, 15, 15], [54, 54, 54], [4...      0\n",
              "4  [[[8, 8, 8], [7, 7, 7], [7, 7, 7], [5, 5, 5], ...      1"
            ]
          },
          "metadata": {},
          "execution_count": 29
        }
      ]
    },
    {
      "cell_type": "markdown",
      "source": [
        "##Applied different data-augmentation techniques and try to make balance training samples "
      ],
      "metadata": {
        "id": "BOn1SovF6cYt"
      }
    },
    {
      "cell_type": "code",
      "source": [
        "a_f=[]\n",
        "a_level=[]\n",
        "data_augmentation = tf.keras.Sequential([\n",
        "  layers.RandomFlip(\"horizontal_and_vertical\"),\n",
        "  layers.RandomRotation(0.2),\n",
        "])\n",
        "defect=1200\n",
        "non_defect=500\n",
        "for i in range(len(x_train)):\n",
        "  if(df1[\"label\"][i]==1 and defect>0):\n",
        "    augmented_image = data_augmentation(df1[\"Image\"][i])\n",
        "    a_f.append(augmented_image)\n",
        "    a_level.append(df1[\"label\"][i])\n",
        "    defect-=1;\n",
        "  elif(df1[\"label\"][i]==0 and non_defect>0):\n",
        "    augmented_image = data_augmentation(df1[\"Image\"][i])\n",
        "    a_f.append(augmented_image)\n",
        "    a_level.append(df1[\"label\"][i])\n",
        "    non_defect-=1;"
      ],
      "metadata": {
        "id": "Ry_XE5k4Kofp"
      },
      "execution_count": null,
      "outputs": []
    },
    {
      "cell_type": "code",
      "source": [
        "len(a_f), len(a_level)"
      ],
      "metadata": {
        "colab": {
          "base_uri": "https://localhost:8080/"
        },
        "id": "ownRuY1UsfRw",
        "outputId": "e9105fca-cd51-4c8e-d748-838923707605"
      },
      "execution_count": null,
      "outputs": [
        {
          "output_type": "execute_result",
          "data": {
            "text/plain": [
              "(1700, 1700)"
            ]
          },
          "metadata": {},
          "execution_count": 31
        }
      ]
    },
    {
      "cell_type": "code",
      "source": [
        "plt.imshow(a_f[1])"
      ],
      "metadata": {
        "colab": {
          "base_uri": "https://localhost:8080/",
          "height": 286
        },
        "id": "pJofOlTOAtUk",
        "outputId": "10e8e5a8-69a4-4ac4-9ea0-2cfa0216d973"
      },
      "execution_count": null,
      "outputs": [
        {
          "output_type": "execute_result",
          "data": {
            "text/plain": [
              "<matplotlib.image.AxesImage at 0x7f874f251fd0>"
            ]
          },
          "metadata": {},
          "execution_count": 32
        },
        {
          "output_type": "display_data",
          "data": {
            "image/png": "[encoded data removed]",
            "text/plain": [
              "<Figure size 432x288 with 1 Axes>"
            ]
          },
          "metadata": {
            "needs_background": "light"
          }
        }
      ]
    },
    {
      "cell_type": "markdown",
      "source": [
        "###Added approx 700 blur images"
      ],
      "metadata": {
        "id": "tNgVZIFT6rJt"
      }
    },
    {
      "cell_type": "code",
      "source": [
        "for i in range(len(x_train)//5):\n",
        "  x = cv2.blur(np.array(df1[\"Image\"][i]), (3,3))\n",
        "  a_f.append(x)\n",
        "  a_level.append(df1[\"label\"][i])"
      ],
      "metadata": {
        "id": "qZQVlekhARJS"
      },
      "execution_count": null,
      "outputs": []
    },
    {
      "cell_type": "code",
      "source": [
        "len(a_f), len(a_level)"
      ],
      "metadata": {
        "colab": {
          "base_uri": "https://localhost:8080/"
        },
        "id": "nfa7DDhsB6TW",
        "outputId": "afd1399c-41a0-49ba-b4bd-5dbfe940cb29"
      },
      "execution_count": null,
      "outputs": [
        {
          "output_type": "execute_result",
          "data": {
            "text/plain": [
              "(2446, 2446)"
            ]
          },
          "metadata": {},
          "execution_count": 34
        }
      ]
    },
    {
      "cell_type": "code",
      "source": [
        ""
      ],
      "metadata": {
        "id": "-NEjyTGO0czF"
      },
      "execution_count": null,
      "outputs": []
    },
    {
      "cell_type": "code",
      "source": [
        "final_train_image = np.array(a_f)\n",
        "final_train_label = np.array(a_level)"
      ],
      "metadata": {
        "id": "s6T2iR5lxE82"
      },
      "execution_count": null,
      "outputs": []
    },
    {
      "cell_type": "code",
      "source": [
        "final_train_image = np.concatenate((final_train_image, x_train), axis=0)\n",
        "final_train_label = np.concatenate((final_train_label, y_train), axis=0)"
      ],
      "metadata": {
        "id": "RS7IaCXrx9bN"
      },
      "execution_count": null,
      "outputs": []
    },
    {
      "cell_type": "code",
      "source": [
        "final_train_image.shape, final_train_label.shape"
      ],
      "metadata": {
        "colab": {
          "base_uri": "https://localhost:8080/"
        },
        "id": "ZeE7cWr1yeS8",
        "outputId": "fee943fb-5f12-4414-e69d-5e645ba33236"
      },
      "execution_count": null,
      "outputs": [
        {
          "output_type": "execute_result",
          "data": {
            "text/plain": [
              "((6180, 224, 224, 3), (6180,))"
            ]
          },
          "metadata": {},
          "execution_count": 37
        }
      ]
    },
    {
      "cell_type": "code",
      "source": [
        "#scale data\n",
        "x_train_scaled = []\n",
        "for i in range(len(final_train_image)):\n",
        "    x_train_scaled.append(final_train_image[i]/255.0)\n",
        "    \n",
        "x_test_scaled = []\n",
        "for i in range(len(x_test)):\n",
        "    x_test_scaled.append(x_test[i]/255.0)"
      ],
      "metadata": {
        "id": "Ho2RIynWs6QI"
      },
      "execution_count": null,
      "outputs": []
    },
    {
      "cell_type": "code",
      "source": [
        "final_train_image=np.array(x_train_scaled)"
      ],
      "metadata": {
        "id": "Zf3mStoEy5Zo"
      },
      "execution_count": null,
      "outputs": []
    },
    {
      "cell_type": "code",
      "source": [
        "final_train_image.shape, final_train_label.shape"
      ],
      "metadata": {
        "colab": {
          "base_uri": "https://localhost:8080/"
        },
        "id": "fHszSrDHYOKs",
        "outputId": "985eff61-607a-41a9-81f5-9efb4b5a9641"
      },
      "execution_count": null,
      "outputs": [
        {
          "output_type": "execute_result",
          "data": {
            "text/plain": [
              "((6180, 224, 224, 3), (6180,))"
            ]
          },
          "metadata": {},
          "execution_count": 40
        }
      ]
    },
    {
      "cell_type": "code",
      "source": [
        ""
      ],
      "metadata": {
        "id": "vNG-mgzr0WkO"
      },
      "execution_count": null,
      "outputs": []
    },
    {
      "cell_type": "code",
      "source": [
        "plt.imshow(final_train_image[0])"
      ],
      "metadata": {
        "colab": {
          "base_uri": "https://localhost:8080/",
          "height": 286
        },
        "id": "xa61mt9wDcQz",
        "outputId": "0b6fb8ec-e5e1-4eff-8b2c-a88a4087bfed"
      },
      "execution_count": null,
      "outputs": [
        {
          "output_type": "execute_result",
          "data": {
            "text/plain": [
              "<matplotlib.image.AxesImage at 0x7f874d96c6d0>"
            ]
          },
          "metadata": {},
          "execution_count": 41
        },
        {
          "output_type": "display_data",
          "data": {
            "image/png": "[encoded data removed]",
            "text/plain": [
              "<Figure size 432x288 with 1 Axes>"
            ]
          },
          "metadata": {
            "needs_background": "light"
          }
        }
      ]
    },
    {
      "cell_type": "code",
      "source": [
        "plt.hist(final_train_label)"
      ],
      "metadata": {
        "colab": {
          "base_uri": "https://localhost:8080/",
          "height": 334
        },
        "id": "BBLbnSpWYWo4",
        "outputId": "753baf41-ce42-4b87-c54c-68bfaa8ffdcb"
      },
      "execution_count": null,
      "outputs": [
        {
          "output_type": "execute_result",
          "data": {
            "text/plain": [
              "(array([3049.,    0.,    0.,    0.,    0.,    0.,    0.,    0.,    0.,\n",
              "        3131.]),\n",
              " array([0. , 0.1, 0.2, 0.3, 0.4, 0.5, 0.6, 0.7, 0.8, 0.9, 1. ]),\n",
              " <a list of 10 Patch objects>)"
            ]
          },
          "metadata": {},
          "execution_count": 42
        },
        {
          "output_type": "display_data",
          "data": {
            "image/png": "[encoded data removed]",
            "text/plain": [
              "<Figure size 432x288 with 1 Axes>"
            ]
          },
          "metadata": {
            "needs_background": "light"
          }
        }
      ]
    },
    {
      "cell_type": "markdown",
      "source": [
        "###Load pretrained model of MobileNetV2"
      ],
      "metadata": {
        "id": "IrB8TwB-60-Y"
      }
    },
    {
      "cell_type": "code",
      "source": [
        "feature_extractor = \"https://tfhub.dev/google/tf2-preview/mobilenet_v2/feature_vector/4\"\n",
        "pretrained_model_without_top_layer = hub.KerasLayer(\n",
        "feature_extractor, input_shape = (224,224,3), trainable = False)  "
      ],
      "metadata": {
        "id": "-Y-nVjUKNlFM"
      },
      "execution_count": null,
      "outputs": []
    },
    {
      "cell_type": "markdown",
      "source": [
        "###Add some custom model"
      ],
      "metadata": {
        "id": "F6LVr_gP68bO"
      }
    },
    {
      "cell_type": "code",
      "source": [
        "model = tf.keras.Sequential([\n",
        "    pretrained_model_without_top_layer,\n",
        "    tf.keras.layers.Dense(128),\n",
        "    tf.keras.layers.Dropout(0.2),\n",
        "    tf.keras.layers.Dense(2)\n",
        "])\n",
        "\n",
        "model.summary()"
      ],
      "metadata": {
        "colab": {
          "base_uri": "https://localhost:8080/"
        },
        "id": "0QlwUSTjNqka",
        "outputId": "fbb41f1c-835b-47c0-824c-0e9d0cd56050"
      },
      "execution_count": null,
      "outputs": [
        {
          "output_type": "stream",
          "name": "stdout",
          "text": [
            "Model: \"sequential_1\"\n",
            "_________________________________________________________________\n",
            " Layer (type)                Output Shape              Param #   \n",
            "=================================================================\n",
            " keras_layer (KerasLayer)    (None, 1280)              2257984   \n",
            "                                                                 \n",
            " dense (Dense)               (None, 128)               163968    \n",
            "                                                                 \n",
            " dropout (Dropout)           (None, 128)               0         \n",
            "                                                                 \n",
            " dense_1 (Dense)             (None, 2)                 258       \n",
            "                                                                 \n",
            "=================================================================\n",
            "Total params: 2,422,210\n",
            "Trainable params: 164,226\n",
            "Non-trainable params: 2,257,984\n",
            "_________________________________________________________________\n"
          ]
        }
      ]
    },
    {
      "cell_type": "code",
      "source": [
        "model.compile(\n",
        "    optimizer=\"adam\",\n",
        "    loss = tf.keras.losses.SparseCategoricalCrossentropy(from_logits=True),\n",
        "    metrics=[\"acc\"]\n",
        ")"
      ],
      "metadata": {
        "id": "RNX6dLDnNvsF"
      },
      "execution_count": null,
      "outputs": []
    },
    {
      "cell_type": "code",
      "source": [
        "x_test_scaled=np.array(x_test_scaled)"
      ],
      "metadata": {
        "id": "ZuGYwtBJ48U8"
      },
      "execution_count": null,
      "outputs": []
    },
    {
      "cell_type": "code",
      "source": [
        "print(final_train_image.shape)\n",
        "print(final_train_label.shape)\n",
        "print(x_test_scaled.shape)\n",
        "print(y_test.shape)"
      ],
      "metadata": {
        "colab": {
          "base_uri": "https://localhost:8080/"
        },
        "id": "nuGY_ACH3ucS",
        "outputId": "118da7e7-2f4f-446c-f85e-7684eb4a5769"
      },
      "execution_count": null,
      "outputs": [
        {
          "output_type": "stream",
          "name": "stdout",
          "text": [
            "(6180, 224, 224, 3)\n",
            "(6180,)\n",
            "(934, 224, 224, 3)\n",
            "(934,)\n"
          ]
        }
      ]
    },
    {
      "cell_type": "markdown",
      "source": [
        "###Train model on 50 epochs"
      ],
      "metadata": {
        "id": "5PXRpgdj7ALs"
      }
    },
    {
      "cell_type": "code",
      "source": [
        "hist=model.fit(final_train_image, final_train_label, batch_size= 64,validation_data=(x_test_scaled, y_test), epochs = 50,verbose=2)"
      ],
      "metadata": {
        "colab": {
          "base_uri": "https://localhost:8080/"
        },
        "id": "G6-OTepZN-2z",
        "outputId": "d7a73307-d156-48b7-add9-5f756715bcd1"
      },
      "execution_count": null,
      "outputs": [
        {
          "output_type": "stream",
          "name": "stdout",
          "text": [
            "Epoch 1/50\n",
            "97/97 - 35s - loss: 0.5784 - acc: 0.7778 - val_loss: 0.3347 - val_acc: 0.8555 - 35s/epoch - 358ms/step\n",
            "Epoch 2/50\n",
            "97/97 - 33s - loss: 0.3434 - acc: 0.8469 - val_loss: 0.3139 - val_acc: 0.8672 - 33s/epoch - 336ms/step\n",
            "Epoch 3/50\n",
            "97/97 - 33s - loss: 0.3218 - acc: 0.8581 - val_loss: 0.3549 - val_acc: 0.8405 - 33s/epoch - 335ms/step\n",
            "Epoch 4/50\n",
            "97/97 - 33s - loss: 0.2926 - acc: 0.8701 - val_loss: 0.3125 - val_acc: 0.8715 - 33s/epoch - 342ms/step\n",
            "Epoch 5/50\n",
            "97/97 - 33s - loss: 0.2855 - acc: 0.8783 - val_loss: 0.2946 - val_acc: 0.8822 - 33s/epoch - 337ms/step\n",
            "Epoch 6/50\n",
            "97/97 - 33s - loss: 0.2907 - acc: 0.8725 - val_loss: 0.3057 - val_acc: 0.8790 - 33s/epoch - 339ms/step\n",
            "Epoch 7/50\n",
            "97/97 - 31s - loss: 0.2933 - acc: 0.8778 - val_loss: 0.2927 - val_acc: 0.8801 - 31s/epoch - 322ms/step\n",
            "Epoch 8/50\n",
            "97/97 - 31s - loss: 0.2676 - acc: 0.8796 - val_loss: 0.2938 - val_acc: 0.8854 - 31s/epoch - 320ms/step\n",
            "Epoch 9/50\n",
            "97/97 - 31s - loss: 0.2634 - acc: 0.8867 - val_loss: 0.2992 - val_acc: 0.8865 - 31s/epoch - 318ms/step\n",
            "Epoch 10/50\n",
            "97/97 - 31s - loss: 0.2463 - acc: 0.8966 - val_loss: 0.3263 - val_acc: 0.8801 - 31s/epoch - 315ms/step\n",
            "Epoch 11/50\n",
            "97/97 - 30s - loss: 0.2549 - acc: 0.8900 - val_loss: 0.2960 - val_acc: 0.8844 - 30s/epoch - 310ms/step\n",
            "Epoch 12/50\n",
            "97/97 - 30s - loss: 0.2459 - acc: 0.8964 - val_loss: 0.3457 - val_acc: 0.8437 - 30s/epoch - 305ms/step\n",
            "Epoch 13/50\n",
            "97/97 - 33s - loss: 0.2537 - acc: 0.8919 - val_loss: 0.3005 - val_acc: 0.8726 - 33s/epoch - 341ms/step\n",
            "Epoch 14/50\n",
            "97/97 - 31s - loss: 0.2503 - acc: 0.8924 - val_loss: 0.3611 - val_acc: 0.8266 - 31s/epoch - 321ms/step\n",
            "Epoch 15/50\n",
            "97/97 - 33s - loss: 0.2400 - acc: 0.8982 - val_loss: 0.2938 - val_acc: 0.8897 - 33s/epoch - 342ms/step\n",
            "Epoch 16/50\n",
            "97/97 - 34s - loss: 0.2318 - acc: 0.9047 - val_loss: 0.3153 - val_acc: 0.8769 - 34s/epoch - 350ms/step\n",
            "Epoch 17/50\n",
            "97/97 - 33s - loss: 0.2581 - acc: 0.8924 - val_loss: 0.2916 - val_acc: 0.8822 - 33s/epoch - 345ms/step\n",
            "Epoch 18/50\n",
            "97/97 - 33s - loss: 0.2312 - acc: 0.9010 - val_loss: 0.3491 - val_acc: 0.8340 - 33s/epoch - 340ms/step\n",
            "Epoch 19/50\n",
            "97/97 - 33s - loss: 0.2354 - acc: 0.8984 - val_loss: 0.2944 - val_acc: 0.8908 - 33s/epoch - 341ms/step\n",
            "Epoch 20/50\n",
            "97/97 - 33s - loss: 0.2355 - acc: 0.9031 - val_loss: 0.3357 - val_acc: 0.8415 - 33s/epoch - 342ms/step\n",
            "Epoch 21/50\n",
            "97/97 - 32s - loss: 0.2221 - acc: 0.9074 - val_loss: 0.2886 - val_acc: 0.8865 - 32s/epoch - 334ms/step\n",
            "Epoch 22/50\n",
            "97/97 - 33s - loss: 0.2342 - acc: 0.9000 - val_loss: 0.2863 - val_acc: 0.8919 - 33s/epoch - 335ms/step\n",
            "Epoch 23/50\n",
            "97/97 - 33s - loss: 0.2173 - acc: 0.9076 - val_loss: 0.2909 - val_acc: 0.8854 - 33s/epoch - 335ms/step\n",
            "Epoch 24/50\n",
            "97/97 - 33s - loss: 0.2256 - acc: 0.9036 - val_loss: 0.2960 - val_acc: 0.8865 - 33s/epoch - 338ms/step\n",
            "Epoch 25/50\n",
            "97/97 - 33s - loss: 0.2268 - acc: 0.9039 - val_loss: 0.3749 - val_acc: 0.8694 - 33s/epoch - 343ms/step\n",
            "Epoch 26/50\n",
            "97/97 - 34s - loss: 0.2446 - acc: 0.8924 - val_loss: 0.2886 - val_acc: 0.8854 - 34s/epoch - 354ms/step\n",
            "Epoch 27/50\n",
            "97/97 - 34s - loss: 0.2227 - acc: 0.9057 - val_loss: 0.2889 - val_acc: 0.8940 - 34s/epoch - 352ms/step\n",
            "Epoch 28/50\n",
            "97/97 - 36s - loss: 0.2162 - acc: 0.9087 - val_loss: 0.2914 - val_acc: 0.8919 - 36s/epoch - 369ms/step\n",
            "Epoch 29/50\n",
            "97/97 - 35s - loss: 0.2181 - acc: 0.9100 - val_loss: 0.3124 - val_acc: 0.8865 - 35s/epoch - 361ms/step\n",
            "Epoch 30/50\n",
            "97/97 - 38s - loss: 0.2253 - acc: 0.9039 - val_loss: 0.2890 - val_acc: 0.8887 - 38s/epoch - 389ms/step\n",
            "Epoch 31/50\n",
            "97/97 - 38s - loss: 0.2116 - acc: 0.9147 - val_loss: 0.2951 - val_acc: 0.8812 - 38s/epoch - 397ms/step\n",
            "Epoch 32/50\n",
            "97/97 - 34s - loss: 0.2209 - acc: 0.9076 - val_loss: 0.2934 - val_acc: 0.8897 - 34s/epoch - 353ms/step\n",
            "Epoch 33/50\n",
            "97/97 - 33s - loss: 0.2205 - acc: 0.9036 - val_loss: 0.2976 - val_acc: 0.8876 - 33s/epoch - 340ms/step\n",
            "Epoch 34/50\n",
            "97/97 - 32s - loss: 0.2208 - acc: 0.9045 - val_loss: 0.3177 - val_acc: 0.8608 - 32s/epoch - 334ms/step\n",
            "Epoch 35/50\n",
            "97/97 - 34s - loss: 0.2140 - acc: 0.9121 - val_loss: 0.2957 - val_acc: 0.8801 - 34s/epoch - 354ms/step\n",
            "Epoch 36/50\n",
            "97/97 - 33s - loss: 0.2251 - acc: 0.9011 - val_loss: 0.3231 - val_acc: 0.8555 - 33s/epoch - 335ms/step\n",
            "Epoch 37/50\n",
            "97/97 - 33s - loss: 0.2013 - acc: 0.9141 - val_loss: 0.3105 - val_acc: 0.8662 - 33s/epoch - 345ms/step\n",
            "Epoch 38/50\n",
            "97/97 - 34s - loss: 0.2103 - acc: 0.9105 - val_loss: 0.3037 - val_acc: 0.8769 - 34s/epoch - 349ms/step\n",
            "Epoch 39/50\n",
            "97/97 - 33s - loss: 0.2154 - acc: 0.9070 - val_loss: 0.3154 - val_acc: 0.8790 - 33s/epoch - 340ms/step\n",
            "Epoch 40/50\n",
            "97/97 - 34s - loss: 0.2080 - acc: 0.9121 - val_loss: 0.2996 - val_acc: 0.8844 - 34s/epoch - 347ms/step\n",
            "Epoch 41/50\n",
            "97/97 - 33s - loss: 0.2148 - acc: 0.9097 - val_loss: 0.3019 - val_acc: 0.8801 - 33s/epoch - 337ms/step\n",
            "Epoch 42/50\n",
            "97/97 - 33s - loss: 0.2125 - acc: 0.9091 - val_loss: 0.3120 - val_acc: 0.8630 - 33s/epoch - 335ms/step\n",
            "Epoch 43/50\n",
            "97/97 - 33s - loss: 0.2102 - acc: 0.9121 - val_loss: 0.3593 - val_acc: 0.8758 - 33s/epoch - 337ms/step\n",
            "Epoch 44/50\n",
            "97/97 - 35s - loss: 0.2100 - acc: 0.9073 - val_loss: 0.2985 - val_acc: 0.8833 - 35s/epoch - 357ms/step\n",
            "Epoch 45/50\n",
            "97/97 - 34s - loss: 0.1983 - acc: 0.9181 - val_loss: 0.3048 - val_acc: 0.8758 - 34s/epoch - 351ms/step\n",
            "Epoch 46/50\n",
            "97/97 - 33s - loss: 0.1986 - acc: 0.9167 - val_loss: 0.3136 - val_acc: 0.8801 - 33s/epoch - 345ms/step\n",
            "Epoch 47/50\n",
            "97/97 - 33s - loss: 0.2011 - acc: 0.9160 - val_loss: 0.3692 - val_acc: 0.8737 - 33s/epoch - 339ms/step\n",
            "Epoch 48/50\n",
            "97/97 - 33s - loss: 0.2243 - acc: 0.9065 - val_loss: 0.3290 - val_acc: 0.8801 - 33s/epoch - 335ms/step\n",
            "Epoch 49/50\n",
            "97/97 - 32s - loss: 0.2036 - acc: 0.9168 - val_loss: 0.3008 - val_acc: 0.8769 - 32s/epoch - 331ms/step\n",
            "Epoch 50/50\n",
            "97/97 - 33s - loss: 0.2019 - acc: 0.9129 - val_loss: 0.3180 - val_acc: 0.8951 - 33s/epoch - 341ms/step\n"
          ]
        }
      ]
    },
    {
      "cell_type": "code",
      "source": [
        "loss , acc = model.evaluate(x_test_scaled, y_test, verbose = 2)\n",
        "print(acc)"
      ],
      "metadata": {
        "colab": {
          "base_uri": "https://localhost:8080/"
        },
        "id": "NKQsiQ6YPiWU",
        "outputId": "54e5c9d7-7386-4506-959f-c477bf32d928"
      },
      "execution_count": null,
      "outputs": [
        {
          "output_type": "stream",
          "name": "stdout",
          "text": [
            "30/30 - 5s - loss: 0.3180 - acc: 0.8951 - 5s/epoch - 156ms/step\n",
            "0.8950749635696411\n"
          ]
        }
      ]
    },
    {
      "cell_type": "markdown",
      "source": [
        "###Classification report "
      ],
      "metadata": {
        "id": "FNoVUwmt7E7S"
      }
    },
    {
      "cell_type": "code",
      "source": [
        "from sklearn.metrics import classification_report\n",
        "pred = model.predict(x_test_scaled, batch_size=128, verbose=1)\n",
        "predicted = np.argmax(pred, axis=1)\n",
        "report = classification_report(y_test,predicted)\n",
        "print(report)"
      ],
      "metadata": {
        "colab": {
          "base_uri": "https://localhost:8080/"
        },
        "id": "FhNya7fIdveu",
        "outputId": "78f42806-93d1-4349-f101-2edb9c508007"
      },
      "execution_count": null,
      "outputs": [
        {
          "output_type": "stream",
          "name": "stdout",
          "text": [
            "8/8 [==============================] - 4s 455ms/step\n",
            "              precision    recall  f1-score   support\n",
            "\n",
            "           0       0.86      0.98      0.91       534\n",
            "           1       0.96      0.79      0.87       400\n",
            "\n",
            "    accuracy                           0.90       934\n",
            "   macro avg       0.91      0.88      0.89       934\n",
            "weighted avg       0.90      0.90      0.89       934\n",
            "\n"
          ]
        }
      ]
    },
    {
      "cell_type": "code",
      "source": [
        "#visualize training and testing data \n",
        "import matplotlib.pyplot as plt\n",
        "plt.plot(hist.history[\"acc\"])\n",
        "plt.plot(hist.history['val_acc'])\n",
        "plt.plot(hist.history['loss'])\n",
        "plt.plot(hist.history['val_loss'])\n",
        "plt.title(\"model accuracy\")\n",
        "plt.ylabel(\"Accuracy\")\n",
        "plt.xlabel(\"Epoch\")\n",
        "plt.legend([\"Accuracy\",\"Validation Accuracy\",\"loss\",\"Validation Loss\"])\n",
        "plt.show()"
      ],
      "metadata": {
        "colab": {
          "base_uri": "https://localhost:8080/",
          "height": 295
        },
        "id": "KzZ6upTFjrKO",
        "outputId": "0701e134-db87-4423-fc27-793ab54f3b64"
      },
      "execution_count": null,
      "outputs": [
        {
          "output_type": "display_data",
          "data": {
            "image/png": "[encoded data removed]",
            "text/plain": [
              "<Figure size 432x288 with 1 Axes>"
            ]
          },
          "metadata": {
            "needs_background": "light"
          }
        }
      ]
    },
    {
      "cell_type": "markdown",
      "source": [
        "##Save model for future use "
      ],
      "metadata": {
        "id": "iPm-pn4L7jff"
      }
    },
    {
      "cell_type": "code",
      "source": [
        "!mkdir -p saved_model\n",
        "model.save('/content/gdrive/MyDrive/Defect_Anomaly_CV_IITJ/Images_PrithviAI/saved_model/my_model_bath64(dropout(0.2)-equal_data')"
      ],
      "metadata": {
        "colab": {
          "base_uri": "https://localhost:8080/"
        },
        "id": "dkxmtMJ0JG3I",
        "outputId": "464c6e4c-5a95-4701-dcfd-2434bdb2b068"
      },
      "execution_count": null,
      "outputs": [
        {
          "output_type": "stream",
          "name": "stdout",
          "text": [
            "INFO:tensorflow:Assets written to: /content/gdrive/MyDrive/Defect_Anomaly_CV_IITJ/Images_PrithviAI/saved_model/my_model_bath64(dropout(0.2)-equal_data/assets\n"
          ]
        },
        {
          "output_type": "stream",
          "name": "stderr",
          "text": [
            "INFO:tensorflow:Assets written to: /content/gdrive/MyDrive/Defect_Anomaly_CV_IITJ/Images_PrithviAI/saved_model/my_model_bath64(dropout(0.2)-equal_data/assets\n"
          ]
        }
      ]
    }
  ]
}